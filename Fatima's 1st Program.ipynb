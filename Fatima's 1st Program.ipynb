{
 "cells": [
  {
   "cell_type": "code",
   "execution_count": 1,
   "id": "5bc24656-b8e7-4b6c-9e77-7c307cd278e5",
   "metadata": {},
   "outputs": [
    {
     "name": "stdin",
     "output_type": "stream",
     "text": [
      "Enter your name ali\n",
      "enter your last name raza\n",
      "what is your favourite colour blue\n",
      "what is your favourite number 1\n",
      "enter your age 32\n"
     ]
    },
    {
     "name": "stdout",
     "output_type": "stream",
     "text": [
      "Birth Year is: 1993\n"
     ]
    }
   ],
   "source": [
    "first_name = input(\"Enter your name\")\n",
    "last_name = input(\"enter your last name\")\n",
    "favourite_colour = input(\"what is your favourite colour\")\n",
    "favourite_number = int(input(\"what is your favourite number\"))\n",
    "age = int(input(\"enter your age\"))\n",
    "current_year = 2025\n",
    "current_year -= age\n",
    "print(f\"Birth Year is: {current_year}\")\n",
    "     "
   ]
  },
  {
   "cell_type": "code",
   "execution_count": 2,
   "id": "79728b60-03c1-45d8-89f1-907d9fab158a",
   "metadata": {},
   "outputs": [
    {
     "name": "stdin",
     "output_type": "stream",
     "text": [
      "Enter Temperature in Celcius 43\n"
     ]
    },
    {
     "name": "stdout",
     "output_type": "stream",
     "text": [
      "The Temperature in Fahrenheit is:109.4\n"
     ]
    }
   ],
   "source": [
    "temp_in_cel = int(input(\"Enter Temperature in Celcius\"))\n",
    "temp_in_fah = float(temp_in_cel * 9/5) + 32\n",
    "converted_temp = temp_in_fah\n",
    "print(f\"The Temperature in Fahrenheit is:{converted_temp}\")"
   ]
  },
  {
   "cell_type": "code",
   "execution_count": 1,
   "id": "d62358a4-0940-4b4f-8527-03dac43466d9",
   "metadata": {},
   "outputs": [
    {
     "name": "stdin",
     "output_type": "stream",
     "text": [
      "enter the length 34\n",
      "enter the width 34\n"
     ]
    },
    {
     "name": "stdout",
     "output_type": "stream",
     "text": [
      "the area is: 1156\n",
      "the parameter is : 2312\n"
     ]
    }
   ],
   "source": [
    "length = int(input(\"enter the length\"))\n",
    "width = int(input(\"enter the width\"))\n",
    "area = (length*width)\n",
    "parameter = (2*(length*width))\n",
    "print(f\"the area is: {area}\")\n",
    "print(f\"the parameter is : {parameter}\")\n"
   ]
  },
  {
   "cell_type": "code",
   "execution_count": null,
   "id": "6d7c1df3-7fa3-4efd-ace3-c34199f10524",
   "metadata": {},
   "outputs": [],
   "source": []
  }
 ],
 "metadata": {
  "kernelspec": {
   "display_name": "Python 3 (ipykernel)",
   "language": "python",
   "name": "python3"
  },
  "language_info": {
   "codemirror_mode": {
    "name": "ipython",
    "version": 3
   },
   "file_extension": ".py",
   "mimetype": "text/x-python",
   "name": "python",
   "nbconvert_exporter": "python",
   "pygments_lexer": "ipython3",
   "version": "3.13.5"
  }
 },
 "nbformat": 4,
 "nbformat_minor": 5
}
